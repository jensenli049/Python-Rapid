{
 "cells": [
  {
   "cell_type": "markdown",
   "id": "60450731",
   "metadata": {},
   "source": [
    "Machine Learning information from: https://blog.roboflow.com/yolo-nas-how-to-train-on-custom-dataset/#select-hyperparameter-values\n",
    "Screws dataset from: https://www.mvtec.com/company/research/datasets/mvtec-screws"
   ]
  },
  {
   "cell_type": "markdown",
   "id": "e95c9441",
   "metadata": {},
   "source": [
    "## 1. Install Dependencies"
   ]
  },
  {
   "cell_type": "code",
   "execution_count": null,
   "id": "f215e168",
   "metadata": {},
   "outputs": [],
   "source": [
    "pip install --user --upgrade super-gradients==3.1.1 supervision"
   ]
  },
  {
   "cell_type": "code",
   "execution_count": null,
   "id": "b7121925",
   "metadata": {},
   "outputs": [],
   "source": [
    "import os\n",
    "HOME = os.getcwd()\n",
    "print(HOME)"
   ]
  },
  {
   "cell_type": "code",
   "execution_count": null,
   "id": "d31dd4ad",
   "metadata": {},
   "outputs": [],
   "source": [
    "# import model data\n",
    "import torch\n",
    "from super_gradients.training import models\n",
    "\n",
    "DEVICE = 'cuda' if torch.cuda.is_available() else 'cpu'\n",
    "MODEL_ARCH = 'yolo_nas_l'\n",
    "#            'yolo_nas_m'\n",
    "#            'yolo_nas_s'\n",
    "\n",
    "model = models.get(MODEL_ARCH, pretrained_weights=\"coco\").to(DEVICE)"
   ]
  },
  {
   "cell_type": "code",
   "execution_count": null,
   "id": "58416c1b",
   "metadata": {},
   "outputs": [],
   "source": [
    "import cv2\n",
    "\n",
    "SOURCE_IMAGE_PATH = f\"{HOME}/archive/images/screws_001.png\"\n",
    "image = cv2.imread(SOURCE_IMAGE_PATH)\n",
    "result = list(model.predict(image, conf=0.35))[0]\n",
    "\n",
    "type(result)"
   ]
  },
  {
   "cell_type": "markdown",
   "id": "5b4930fb",
   "metadata": {},
   "source": [
    "Roboflow code"
   ]
  },
  {
   "cell_type": "code",
   "execution_count": null,
   "id": "236d56f1",
   "metadata": {},
   "outputs": [],
   "source": [
    "import cv2\n",
    "\n",
    "SOURCE_IMAGE_PATH = f\"{HOME}/data/dog-2.jpeg\"\n",
    "image = cv2.imread(SOURCE_IMAGE_PATH)\n",
    "result = list(model.predict(image, conf=0.35))[0]"
   ]
  },
  {
   "cell_type": "code",
   "execution_count": null,
   "id": "21c480ac",
   "metadata": {},
   "outputs": [],
   "source": [
    "import supervision as sv\n",
    "\n",
    "detections = sv.Detections(\n",
    "    xyxy=result.prediction.bboxes_xyxy,\n",
    "    confidence=result.prediction.confidence,\n",
    "    class_id=result.prediction.labels.astype(int)\n",
    ")\n",
    "\n",
    "box_annotator = sv.BoxAnnotator()\n",
    "\n",
    "labels = [\n",
    "    f\"{result.class_names[class_id]} {confidence:0.2f}\"\n",
    "    for _, _, confidence, class_id, _\n",
    "    in detections\n",
    "]\n",
    "\n",
    "annotated_frame = box_annotator.annotate(\n",
    "    scene=image.copy(),\n",
    "    detections=detections,\n",
    "    labels=labels\n",
    ")\n",
    "\n",
    "%matplotlib inline\n",
    "sv.plot_image(annotated_frame, (12, 12))"
   ]
  },
  {
   "cell_type": "markdown",
   "id": "6d18cb40",
   "metadata": {},
   "source": [
    "## 2. Import data"
   ]
  },
  {
   "cell_type": "code",
   "execution_count": null,
   "id": "8400d312",
   "metadata": {},
   "outputs": [],
   "source": [
    "import roboflow\n",
    "from roboflow import Roboflow\n",
    "import supervision\n",
    "\n",
    "roboflow.login()\n",
    "\n",
    "rf = Roboflow()\n",
    "project = rf.workspace(WORKSPACE_ID).project(PROJECT_ID)\n",
    "dataset = project.version(PROJECT_VERSION).download(\"yolov5\")"
   ]
  },
  {
   "cell_type": "code",
   "execution_count": null,
   "id": "1ef4acc5",
   "metadata": {},
   "outputs": [],
   "source": [
    "read_dict (<path_to_mvtec_screws.hdict>, [], [], DLDataset)\n",
    "set_dict_tuple(DLDataset, 'image_dir', <path_to_images_folder>)"
   ]
  },
  {
   "cell_type": "markdown",
   "id": "57209ef0",
   "metadata": {},
   "source": [
    "## 3. Set batch and model size"
   ]
  },
  {
   "cell_type": "code",
   "execution_count": null,
   "id": "63d019d1",
   "metadata": {},
   "outputs": [],
   "source": [
    "CONFIDENCE_TRESHOLD = 0.35\n",
    "MODEL_ARCH = 'yolo_nas_l'\n",
    "BATCH_SIZE = 8\n",
    "MAX_EPOCHS = 25\n",
    "CHECKPOINT_DIR = f'{HOME}/checkpoints'\n",
    "EXPERIMENT_NAME = project.name.lower().replace(\" \", \"_\")\n",
    "LOCATION = dataset.location\n",
    "CLASSES = sorted(project.classes.keys())\n",
    "\n",
    "dataset_params = {\n",
    "    'data_dir': LOCATION,\n",
    "    'train_images_dir':'train/images',\n",
    "    'train_labels_dir':'train/labels',\n",
    "    'val_images_dir':'valid/images',\n",
    "    'val_labels_dir':'valid/labels',\n",
    "    'test_images_dir':'test/images',\n",
    "    'test_labels_dir':'test/labels',\n",
    "    'classes': CLASSES\n",
    "}\n",
    "\n",
    "result = list(model.predict(image, conf=CONFIDENCE_TRESHOLD))[0]\n",
    "\n",
    "from super_gradients.training.dataloaders.dataloaders import (\n",
    "    coco_detection_yolo_format_train, coco_detection_yolo_format_val)\n",
    "\n",
    "train_data = coco_detection_yolo_format_train(\n",
    "    dataset_params={\n",
    "        'data_dir': dataset_params['data_dir'],\n",
    "        'images_dir': dataset_params['train_images_dir'],\n",
    "        'labels_dir': dataset_params['train_labels_dir'],\n",
    "        'classes': dataset_params['classes']\n",
    "    },\n",
    "    dataloader_params={\n",
    "        'batch_size': BATCH_SIZE,\n",
    "        'num_workers': 2\n",
    "    }\n",
    ")\n",
    "\n",
    "val_data = coco_detection_yolo_format_val(\n",
    "    dataset_params={\n",
    "        'data_dir': dataset_params['data_dir'],\n",
    "        'images_dir': dataset_params['val_images_dir'],\n",
    "        'labels_dir': dataset_params['val_labels_dir'],\n",
    "        'classes': dataset_params['classes']\n",
    "    },\n",
    "    dataloader_params={\n",
    "        'batch_size': BATCH_SIZE,\n",
    "        'num_workers': 2\n",
    "    }\n",
    ")"
   ]
  },
  {
   "cell_type": "markdown",
   "id": "8566d2d1",
   "metadata": {},
   "source": [
    "## 4. Train the Model"
   ]
  },
  {
   "cell_type": "code",
   "execution_count": null,
   "id": "afee79c5",
   "metadata": {},
   "outputs": [],
   "source": [
    "trainer.train(\n",
    "    model=model, \n",
    "    training_params=train_params, \n",
    "    train_loader=train_data, \n",
    "    valid_loader=val_data\n",
    ")"
   ]
  },
  {
   "cell_type": "markdown",
   "id": "1ba743e7",
   "metadata": {},
   "source": [
    "## 5. Evaluate the Model"
   ]
  },
  {
   "cell_type": "code",
   "execution_count": null,
   "id": "16865b71",
   "metadata": {},
   "outputs": [],
   "source": [
    "trainer.test(\n",
    "    model=best_model,\n",
    "    test_loader=test_data,\n",
    "    test_metrics_list=DetectionMetrics_050(\n",
    "        score_thres=0.1, \n",
    "        top_k_predictions=300, \n",
    "        num_cls=len(dataset_params['classes']), \n",
    "        normalize_targets=True, \n",
    "        post_prediction_callback=PPYoloEPostPredictionCallback(\n",
    "            score_threshold=0.01, \n",
    "            nms_top_k=1000, \n",
    "            max_predictions=300,                                                                              \n",
    "            nms_threshold=0.7\n",
    "        )\n",
    "    )\n",
    ")"
   ]
  }
 ],
 "metadata": {
  "kernelspec": {
   "display_name": "Python 3 (ipykernel)",
   "language": "python",
   "name": "python3"
  },
  "language_info": {
   "codemirror_mode": {
    "name": "ipython",
    "version": 3
   },
   "file_extension": ".py",
   "mimetype": "text/x-python",
   "name": "python",
   "nbconvert_exporter": "python",
   "pygments_lexer": "ipython3",
   "version": "3.8.12"
  }
 },
 "nbformat": 4,
 "nbformat_minor": 5
}
