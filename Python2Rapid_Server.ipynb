{
 "cells": [
  {
   "cell_type": "markdown",
   "id": "e95c9441",
   "metadata": {},
   "source": [
    "## 1. Install Dependencies"
   ]
  },
  {
   "cell_type": "code",
   "execution_count": null,
   "id": "f215e168",
   "metadata": {},
   "outputs": [],
   "source": [
    "pip install --user --upgrade keyboard"
   ]
  },
  {
   "cell_type": "code",
   "execution_count": 1,
   "id": "d31dd4ad",
   "metadata": {},
   "outputs": [],
   "source": [
    "# import socket\n",
    "from ast import Break\n",
    "import imp\n",
    "from multiprocessing.connection import answer_challenge, wait\n",
    "import socket\n",
    "import time\n",
    "import keyboard"
   ]
  },
  {
   "cell_type": "markdown",
   "id": "6d18cb40",
   "metadata": {},
   "source": [
    "## 2. Define Variables"
   ]
  },
  {
   "cell_type": "code",
   "execution_count": 2,
   "id": "8400d312",
   "metadata": {},
   "outputs": [
    {
     "name": "stdout",
     "output_type": "stream",
     "text": [
      "192.168.0.170\n"
     ]
    }
   ],
   "source": [
    "IP = socket.gethostbyname(socket.gethostname())\n",
    "IP_2 = \"127.0.0.1\" # Yumi IP address/ 192.168.125.1 (localhost)\n",
    "print(IP)\n",
    "# print(IP_2)\n",
    "\n",
    "PORT = 4455\n",
    "ADDR = (IP,PORT)\n",
    "Format = \"utf-8\"\n",
    "Size = 1024\n",
    "# Server_State = True"
   ]
  },
  {
   "cell_type": "markdown",
   "id": "57209ef0",
   "metadata": {},
   "source": [
    "## 3. Main Function"
   ]
  },
  {
   "cell_type": "markdown",
   "id": "6066024d",
   "metadata": {},
   "source": [
    "Socket information https://realpython.com/python-sockets/"
   ]
  },
  {
   "cell_type": "code",
   "execution_count": null,
   "id": "63d019d1",
   "metadata": {},
   "outputs": [
    {
     "name": "stdout",
     "output_type": "stream",
     "text": [
      "\u001b[33m[Starting]\u001b[0m Server is starting.\n",
      "\u001b[33m[Listining]\u001b[0m Server is listening.\n",
      "\u001b[33m[NEW CONNECTION]\u001b[0m ('192.168.0.170', 56303) connected.\n",
      "Client Message has been recieved\n",
      "['Hello World', 'Hello World', 'Hello World', 'Hello World', 'Hello World', 'Hello World', 'Hello World', 'Hello World', 'Hello World', 'Hello World']\n",
      "\u001b[33m[Starting]\u001b[0m Server is starting.\n",
      "\u001b[33m[Listining]\u001b[0m Server is listening.\n",
      "\u001b[33m[NEW CONNECTION]\u001b[0m ('192.168.0.170', 56334) connected.\n",
      "Client Message has been recieved\n",
      "['Hello World1', 'Hello World2', 'Hello World3', 'Hello World4', 'Hello World5', 'Hello World6', 'Hello World7', 'Hello World8', 'Hello World9', 'Hello World10']\n",
      "\u001b[33m[Starting]\u001b[0m Server is starting.\n",
      "\u001b[33m[Listining]\u001b[0m Server is listening.\n"
     ]
    }
   ],
   "source": [
    "def main():\n",
    "    client_message = []\n",
    "    \n",
    "    print(f\"\\033[33m[Starting]\\033[0m Server is starting.\")\n",
    "    server = socket.socket(socket.AF_INET, socket.SOCK_STREAM)\n",
    "    server.bind(ADDR)\n",
    "    server.listen()\n",
    "    print(f\"\\033[33m[Listining]\\033[0m Server is listening.\")\n",
    "\n",
    "    while True:\n",
    "        conn, addr = server.accept()\n",
    "        print(f\"\\033[33m[NEW CONNECTION]\\033[0m {addr} connected.\")\n",
    "        for i in range(11):\n",
    "            storage = conn.recv(Size).decode(Format)\n",
    "            client_message.append(storage)\n",
    "        print(\"Client Message has been recieved\")\n",
    "        print(client_message)\n",
    "        \n",
    "        for i in range(len(client_message)):\n",
    "            temp_str = client_message[i]\n",
    "            conn.sendto(str.encode(temp_str,Format),addr)\n",
    "            time.sleep(.25)\n",
    "\n",
    "        time.sleep(10)\n",
    "        break\n",
    "        \n",
    "\n",
    "for i in range(5):\n",
    "    main()\n"
   ]
  },
  {
   "cell_type": "code",
   "execution_count": null,
   "id": "7f191074",
   "metadata": {},
   "outputs": [],
   "source": []
  }
 ],
 "metadata": {
  "kernelspec": {
   "display_name": "Python 3 (ipykernel)",
   "language": "python",
   "name": "python3"
  },
  "language_info": {
   "codemirror_mode": {
    "name": "ipython",
    "version": 3
   },
   "file_extension": ".py",
   "mimetype": "text/x-python",
   "name": "python",
   "nbconvert_exporter": "python",
   "pygments_lexer": "ipython3",
   "version": "3.8.12"
  }
 },
 "nbformat": 4,
 "nbformat_minor": 5
}
