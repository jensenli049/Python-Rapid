{
 "cells": [
  {
   "cell_type": "markdown",
   "id": "e95c9441",
   "metadata": {},
   "source": [
    "## 1. Install Dependencies"
   ]
  },
  {
   "cell_type": "code",
   "execution_count": null,
   "id": "f215e168",
   "metadata": {},
   "outputs": [],
   "source": [
    "pip install opencv-python numpy matplotlib"
   ]
  },
  {
   "cell_type": "code",
   "execution_count": 2,
   "id": "d31dd4ad",
   "metadata": {},
   "outputs": [],
   "source": [
    "# import opencv\n",
    "import cv2 as cv\n",
    "# import math functions\n",
    "import math\n",
    "import numpy as np"
   ]
  },
  {
   "cell_type": "markdown",
   "id": "6d18cb40",
   "metadata": {},
   "source": [
    "## 2. Define Functions"
   ]
  },
  {
   "cell_type": "markdown",
   "id": "cdbb28c5",
   "metadata": {},
   "source": [
    "#### Function to find contours of an image:\n",
    "*Takes a file path as input and returns contours*  \n",
    "\n",
    "Contour resource: https://docs.opencv.org/3.4/d4/d73/tutorial_py_contours_begin.html  \n",
    "Otsu Thresholding: https://docs.opencv.org/4.x/d7/d4d/tutorial_py_thresholding.html"
   ]
  },
  {
   "cell_type": "code",
   "execution_count": 3,
   "id": "0432d846",
   "metadata": {},
   "outputs": [],
   "source": [
    "def find_contours(image):\n",
    "    # convert image to grayscale\n",
    "    imgray = cv.cvtColor(image, cv.COLOR_BGR2GRAY)\n",
    "    # threshold image with otsu thresholding\n",
    "    blur = cv.GaussianBlur(imgray,(5,5),0)\n",
    "    ret,thr = cv.threshold(blur, 120, 255, cv.THRESH_BINARY + cv.THRESH_OTSU)\n",
    "    # find contours\n",
    "    # tree = all contours\n",
    "    contours_tree, hierarchy = cv.findContours(thr, cv.RETR_TREE, cv.CHAIN_APPROX_SIMPLE)\n",
    "    # external = only extreme outer contours (used for orientation)\n",
    "    contours_ext, hierarchy = cv.findContours(thr, cv.RETR_EXTERNAL, cv.CHAIN_APPROX_SIMPLE)\n",
    "    \n",
    "    contours_main  = []\n",
    "    for c in contours_tree:\n",
    "        # Calculate the area of each contour\n",
    "        area = cv.contourArea(c)\n",
    "\n",
    "        # Ignore contours that are too small or too large\n",
    "        if area > 2000 and 100000 > area:\n",
    "            contours_main.append(c)\n",
    "    \"\"\"      \n",
    "    result = image.copy()\n",
    "    cv.drawContours(result, contours_main, -1, (0, 0, 255), 2)\n",
    "    cv.imshow('Output Image', result)\n",
    "    cv.waitKey(0)\n",
    "    cv.destroyAllWindows()\n",
    "    \"\"\"\n",
    "    return contours_main, contours_ext"
   ]
  },
  {
   "cell_type": "markdown",
   "id": "fc4b3c73",
   "metadata": {},
   "source": [
    "#### Finding centroid of object:\n",
    "*Takes a list of contours and returns the centroid for each through moments*  \n",
    "\n",
    "Code base from https://docs.opencv.org/4.x/dd/d49/tutorial_py_contour_features.html"
   ]
  },
  {
   "cell_type": "code",
   "execution_count": 4,
   "id": "c0314b53",
   "metadata": {},
   "outputs": [],
   "source": [
    "def find_centroids(contours):\n",
    "    # instantiate two empty lists\n",
    "    cX, cY = [], []\n",
    "    for c in contours:\n",
    "        # calculate moments for each contour\n",
    "        M = cv.moments(c)\n",
    "\n",
    "        # calculate x,y coordinate of center\n",
    "        cX.append(int(M[\"m10\"] / M[\"m00\"]))\n",
    "        cY.append(int(M[\"m01\"] / M[\"m00\"]))\n",
    "        \"\"\"\n",
    "        result = img.copy()\n",
    "        cv.drawContours(result, contours, -1, (0, 0, 255), 2)\n",
    "        cv.circle(img, (int(M[\"m10\"] / M[\"m00\"]), int(M[\"m01\"] / M[\"m00\"])), 5, (0, 0, 0), -1)\n",
    "        cv.imshow('Output Image', result)\n",
    "        cv.waitKey(0)\n",
    "        cv.destroyAllWindows()\n",
    "        \"\"\"\n",
    "        \n",
    "    return cX, cY"
   ]
  },
  {
   "cell_type": "markdown",
   "id": "37ed2af4",
   "metadata": {},
   "source": [
    "#### Calculate the orientation of an image through a rotated box:\n",
    "\n",
    "\n",
    "Code based from: https://stackoverflow.com/questions/58632469/how-to-find-the-orientation-of-an-object-shape-python-opencv"
   ]
  },
  {
   "cell_type": "code",
   "execution_count": 5,
   "id": "ba0fedfc",
   "metadata": {},
   "outputs": [],
   "source": [
    "def calculate_orientation(contours):\n",
    "    # instantiate an empty list\n",
    "    angles = []\n",
    "    for c in contours:\n",
    "        # calculate bounding box with minimum area, considers rotation\n",
    "        rect = cv.minAreaRect(c)\n",
    "        box = cv.boxPoints(rect)\n",
    "        box = np.int0(box)\n",
    "        \n",
    "        # calculate rotation angle\n",
    "        angle = rect[-1]\n",
    "        if angle > 45:\n",
    "            angle = 90 - angle\n",
    "        else:\n",
    "            angle = -angle\n",
    "        angles.append(int(angle))\n",
    "        \"\"\"\n",
    "        result = img.copy()\n",
    "        cv.drawContours(result,[box],0,(0,0,255),2)\n",
    "        cv.imshow(\"RESULT\", result)\n",
    "        cv.waitKey(0)\n",
    "        cv.destroyAllWindows()\n",
    "        \"\"\"\n",
    "    return angles"
   ]
  },
  {
   "cell_type": "markdown",
   "id": "3f6c4d83",
   "metadata": {},
   "source": [
    "#### Function to draw contours, centroids, and orientation axes on an image:\n",
    "*Takes an image, a contours list, orientation, and centroid coordinates and returns an image with the added features*  "
   ]
  },
  {
   "cell_type": "code",
   "execution_count": 6,
   "id": "cee0d8f3",
   "metadata": {},
   "outputs": [],
   "source": [
    "def draw_features(image, contours, angles, cX, cY):\n",
    "    # Make a copy of the image to draw on\n",
    "    result =  image.copy()\n",
    "    for i, (c, a, x, y) in enumerate(zip(contours, angles, cX, cY)):\n",
    "        # draw contours\n",
    "        cv.drawContours(result, contours, -1, (0, 0, 255), 2)\n",
    "        # draw centroid\n",
    "        cv.circle(result, (x, y), 3, (0, 0, 0), -1)\n",
    "        # calculate orientation axes (use complex numbers functions to simplify)\n",
    "        hypotenuse = 100\n",
    "        x_axisX = int(x+hypotenuse*math.cos(math.radians(a)))\n",
    "        x_axisY = int(y-hypotenuse*math.sin(math.radians(a)))\n",
    "        y_axisX = int(x-hypotenuse*math.sin(math.radians(a)))\n",
    "        y_axisY = int(y-hypotenuse*math.cos(math.radians(a)))\n",
    "        # draw axes\n",
    "        cv.line(result, (x, y), (x_axisX, x_axisY), (127,255,0), 2)\n",
    "        cv.line(result, (x, y), (y_axisX, y_axisY), (255,255,224), 2)\n",
    "    cv.imshow('Output Image', result)\n",
    "    cv.waitKey(0)\n",
    "    cv.destroyAllWindows()\n",
    "    "
   ]
  },
  {
   "cell_type": "code",
   "execution_count": 8,
   "id": "c4f2c461",
   "metadata": {
    "scrolled": true
   },
   "outputs": [],
   "source": [
    "# Load the image\n",
    "img = cv.imread(\"image2.png\")\n",
    "#img = cv.imread(\"input_img.jpg\")\n",
    " \n",
    "# Was the image there?\n",
    "if img is None:\n",
    "  print(\"Error: File not found\")\n",
    "  exit(0)\n",
    " \n",
    "#cv.imshow('Input Image', img)\n",
    "#cv.waitKey(0)\n",
    "\n",
    "cntrs_t, cntrs_e = find_contours(img)\n",
    "x_coords, y_coords = find_centroids(cntrs_t)\n",
    "angs = calculate_orientation(cntrs_e)\n",
    "draw_features(img, cntrs_t, angs, x_coords, y_coords)"
   ]
  },
  {
   "cell_type": "code",
   "execution_count": null,
   "id": "778bef53",
   "metadata": {},
   "outputs": [],
   "source": []
  }
 ],
 "metadata": {
  "kernelspec": {
   "display_name": "Python 3 (ipykernel)",
   "language": "python",
   "name": "python3"
  },
  "language_info": {
   "codemirror_mode": {
    "name": "ipython",
    "version": 3
   },
   "file_extension": ".py",
   "mimetype": "text/x-python",
   "name": "python",
   "nbconvert_exporter": "python",
   "pygments_lexer": "ipython3",
   "version": "3.8.12"
  }
 },
 "nbformat": 4,
 "nbformat_minor": 5
}
