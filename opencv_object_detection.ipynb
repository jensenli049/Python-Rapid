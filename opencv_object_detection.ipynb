{
 "cells": [
  {
   "cell_type": "markdown",
   "id": "e95c9441",
   "metadata": {},
   "source": [
    "## 1. Install Dependencies"
   ]
  },
  {
   "cell_type": "code",
   "execution_count": 9,
   "id": "f215e168",
   "metadata": {},
   "outputs": [
    {
     "name": "stdout",
     "output_type": "stream",
     "text": [
      "Requirement already satisfied: opencv-python in c:\\users\\jense\\anaconda3\\envs\\opencv\\lib\\site-packages (4.5.5.64)\n",
      "Requirement already satisfied: numpy in c:\\users\\jense\\anaconda3\\envs\\opencv\\lib\\site-packages (1.22.3)\n",
      "Requirement already satisfied: matplotlib in c:\\users\\jense\\anaconda3\\envs\\opencv\\lib\\site-packages (3.5.1)\n",
      "Requirement already satisfied: kiwisolver>=1.0.1 in c:\\users\\jense\\anaconda3\\envs\\opencv\\lib\\site-packages (from matplotlib) (1.4.0)\n",
      "Requirement already satisfied: pillow>=6.2.0 in c:\\users\\jense\\anaconda3\\envs\\opencv\\lib\\site-packages (from matplotlib) (9.0.1)\n",
      "Requirement already satisfied: fonttools>=4.22.0 in c:\\users\\jense\\anaconda3\\envs\\opencv\\lib\\site-packages (from matplotlib) (4.31.1)\n",
      "Requirement already satisfied: packaging>=20.0 in c:\\users\\jense\\anaconda3\\envs\\opencv\\lib\\site-packages (from matplotlib) (21.3)\n",
      "Requirement already satisfied: python-dateutil>=2.7 in c:\\users\\jense\\anaconda3\\envs\\opencv\\lib\\site-packages (from matplotlib) (2.8.2)\n",
      "Requirement already satisfied: pyparsing>=2.2.1 in c:\\users\\jense\\anaconda3\\envs\\opencv\\lib\\site-packages (from matplotlib) (3.0.4)\n",
      "Requirement already satisfied: cycler>=0.10 in c:\\users\\jense\\anaconda3\\envs\\opencv\\lib\\site-packages (from matplotlib) (0.11.0)\n",
      "Requirement already satisfied: six>=1.5 in c:\\users\\jense\\anaconda3\\envs\\opencv\\lib\\site-packages (from python-dateutil>=2.7->matplotlib) (1.16.0)\n",
      "Note: you may need to restart the kernel to use updated packages.\n"
     ]
    }
   ],
   "source": [
    "pip install --upgrade opencv-python numpy matplotlib"
   ]
  },
  {
   "cell_type": "code",
   "execution_count": 1,
   "id": "d31dd4ad",
   "metadata": {},
   "outputs": [],
   "source": [
    "# import opencv\n",
    "import cv2 as cv\n",
    "# import math functions\n",
    "import math\n",
    "import numpy as np\n",
    "# import system libraries\n",
    "import glob\n",
    "import os"
   ]
  },
  {
   "cell_type": "markdown",
   "id": "6d18cb40",
   "metadata": {},
   "source": [
    "## 2. Define Functions"
   ]
  },
  {
   "cell_type": "markdown",
   "id": "cdbb28c5",
   "metadata": {},
   "source": [
    "#### Function to find contours of an image:\n",
    "*Takes a file path as input and returns contours*  \n",
    "\n",
    "Contour resource: https://docs.opencv.org/3.4/d4/d73/tutorial_py_contours_begin.html  \n",
    "Otsu Thresholding: https://docs.opencv.org/4.x/d7/d4d/tutorial_py_thresholding.html"
   ]
  },
  {
   "cell_type": "code",
   "execution_count": 2,
   "id": "0432d846",
   "metadata": {},
   "outputs": [],
   "source": [
    "def find_contours_auto(image):\n",
    "    # convert image to grayscale\n",
    "    imgray = cv.cvtColor(image, cv.COLOR_BGR2GRAY)\n",
    "    # threshold image with otsu thresholding\n",
    "    blur = cv.GaussianBlur(imgray,(5,5),0)\n",
    "    ret,thr = cv.threshold(blur, 120, 255, cv.THRESH_BINARY + cv.THRESH_OTSU)\n",
    "    # find contours\n",
    "    # tree = all contours\n",
    "    contours_tree, hierarchy = cv.findContours(thr, cv.RETR_TREE, cv.CHAIN_APPROX_SIMPLE)\n",
    "    # external = only extreme outer contours (used for orientation)\n",
    "    contours_ext, hierarchy = cv.findContours(thr, cv.RETR_EXTERNAL, cv.CHAIN_APPROX_SIMPLE)\n",
    "    \n",
    "    contours_main = []\n",
    "    for c in contours_tree:\n",
    "        # Calculate the area of each contour\n",
    "        area = cv.contourArea(c)\n",
    "\n",
    "        # Ignore contours that are too small or too large\n",
    "        if area > 2000 and 100000 > area:\n",
    "            contours_main.append(c)\n",
    "    \"\"\"      \n",
    "    result = image.copy()\n",
    "    cv.drawContours(result, contours_main, -1, (0, 0, 255), 2)\n",
    "    cv.imshow('Output Image', result)\n",
    "    cv.waitKey(0)\n",
    "    cv.destroyAllWindows()\n",
    "    \"\"\"\n",
    "    return contours_main, contours_ext"
   ]
  },
  {
   "cell_type": "code",
   "execution_count": 13,
   "id": "fc130ed5",
   "metadata": {},
   "outputs": [],
   "source": [
    "def find_contours_man(image, min_t, max_t, min_a, max_a):\n",
    "    # convert image to grayscale\n",
    "    imgray = cv.cvtColor(image, cv.COLOR_BGR2GRAY)\n",
    "    # manual threshold\n",
    "    blur = cv.GaussianBlur(imgray,(5,5),0)\n",
    "    ret,thr = cv.threshold(blur, min_t, max_t, cv.THRESH_BINARY)\n",
    "    # find contours\n",
    "    # tree = all contours\n",
    "    contours_tree, hierarchy = cv.findContours(thr, cv.RETR_TREE, cv.CHAIN_APPROX_SIMPLE)\n",
    "    # external = only extreme outer contours (used for orientation)\n",
    "    contours_ext, hierarchy = cv.findContours(thr, cv.RETR_EXTERNAL, cv.CHAIN_APPROX_SIMPLE)\n",
    "    \n",
    "    contours_t = []\n",
    "    contours_e = []\n",
    "    for t,e in zip(contours_tree, contours_ext):\n",
    "        # Calculate the area of each contour\n",
    "        areaT = cv.contourArea(t)\n",
    "        areaE = cv.contourArea(t)\n",
    "\n",
    "        # Ignore contours that are too small or too large\n",
    "        if areaT > min_a and max_a > areaT:\n",
    "            contours_t.append(t)\n",
    "        if areaE > min_a and max_a > areaE:\n",
    "            contours_e.append(e)\n",
    "\n",
    "    return contours_t, contours_e"
   ]
  },
  {
   "cell_type": "markdown",
   "id": "fc4b3c73",
   "metadata": {},
   "source": [
    "#### Finding centroid of object:\n",
    "*Takes a list of contours and returns the centroid for each through moments*  \n",
    "\n",
    "Code base from https://docs.opencv.org/4.x/dd/d49/tutorial_py_contour_features.html"
   ]
  },
  {
   "cell_type": "code",
   "execution_count": 4,
   "id": "c0314b53",
   "metadata": {},
   "outputs": [],
   "source": [
    "def find_centroids(contours):\n",
    "    # instantiate two empty lists\n",
    "    cX, cY = [], []\n",
    "    for c in contours:\n",
    "        # calculate moments for each contour\n",
    "        M = cv.moments(c)\n",
    "\n",
    "        # calculate x,y coordinate of center\n",
    "        cX.append(int(M[\"m10\"] / M[\"m00\"]))\n",
    "        cY.append(int(M[\"m01\"] / M[\"m00\"]))\n",
    "        \"\"\"\n",
    "        result = img.copy()\n",
    "        cv.drawContours(result, contours, -1, (0, 0, 255), 2)\n",
    "        cv.circle(img, (int(M[\"m10\"] / M[\"m00\"]), int(M[\"m01\"] / M[\"m00\"])), 5, (0, 0, 0), -1)\n",
    "        cv.imshow('Output Image', result)\n",
    "        cv.waitKey(0)\n",
    "        cv.destroyAllWindows()\n",
    "        \"\"\"\n",
    "        \n",
    "    return cX, cY"
   ]
  },
  {
   "cell_type": "markdown",
   "id": "37ed2af4",
   "metadata": {},
   "source": [
    "#### Calculate the orientation of an image through a rotated box:\n",
    "\n",
    "\n",
    "Code based from: https://stackoverflow.com/questions/58632469/how-to-find-the-orientation-of-an-object-shape-python-opencv"
   ]
  },
  {
   "cell_type": "code",
   "execution_count": 5,
   "id": "ba0fedfc",
   "metadata": {},
   "outputs": [],
   "source": [
    "def calculate_orientation(contours):\n",
    "    # instantiate an empty list\n",
    "    angles = []\n",
    "    for c in contours:\n",
    "        # calculate bounding box with minimum area, considers rotation\n",
    "        rect = cv.minAreaRect(c)\n",
    "        box = cv.boxPoints(rect)\n",
    "        box = np.int0(box)\n",
    "        \n",
    "        # calculate rotation angle\n",
    "        angle = rect[-1]\n",
    "        if angle > 45:\n",
    "            angle = 90 - angle\n",
    "        else:\n",
    "            angle = -angle\n",
    "        angles.append(int(angle))\n",
    "        \"\"\"\n",
    "        result = img.copy()\n",
    "        cv.drawContours(result,[box],0,(0,0,255),2)\n",
    "        cv.imshow(\"RESULT\", result)\n",
    "        cv.waitKey(0)\n",
    "        cv.destroyAllWindows()\n",
    "        \"\"\"\n",
    "    return angles"
   ]
  },
  {
   "cell_type": "markdown",
   "id": "3f6c4d83",
   "metadata": {},
   "source": [
    "#### Functions to draw contours, centroids, and orientation axes on an image:\n",
    "*Takes an image, a contours list, orientation, and centroid coordinates and returns an image with the added features*  "
   ]
  },
  {
   "cell_type": "code",
   "execution_count": 6,
   "id": "cee0d8f3",
   "metadata": {},
   "outputs": [],
   "source": [
    "def draw_contours(image, contours):\n",
    "    # draw contours\n",
    "    for c in contours:\n",
    "        cv.drawContours(image, contours, -1, (0, 0, 255), 2)\n",
    "        \n",
    "def draw_orientation(image, angles, cX, cY):\n",
    "    for i, (a, x, y) in enumerate(zip(angles, cX, cY)):\n",
    "        # draw centroid\n",
    "        cv.circle(image, (x, y), 3, (0, 0, 0), -1)\n",
    "        # calculate orientation axes\n",
    "        hypotenuse = 100\n",
    "        x_axisX = int(x+hypotenuse*math.cos(math.radians(a)))\n",
    "        x_axisY = int(y-hypotenuse*math.sin(math.radians(a)))\n",
    "        y_axisX = int(x-hypotenuse*math.sin(math.radians(a)))\n",
    "        y_axisY = int(y-hypotenuse*math.cos(math.radians(a)))\n",
    "        # draw axes\n",
    "        cv.line(image, (x, y), (x_axisX, x_axisY), (127,255,0), 2)\n",
    "        cv.line(image, (x, y), (y_axisX, y_axisY), (255,255,224), 2)\n",
    "\n",
    "def draw_all(image, contours, angles, cX, cY):\n",
    "    result =  image.copy()\n",
    "    draw_contours(result, contours)\n",
    "    draw_orientation(result, angles, cX, cY)\n",
    "    cv.imshow('Output Image', result)\n",
    "    cv.waitKey(0)\n",
    "    cv.destroyAllWindows()\n",
    "\n",
    "def draw_features(image, contours, angles, cX, cY):\n",
    "    # Make a copy of the image to draw on\n",
    "    result =  image.copy()\n",
    "    for i, (c, a, x, y) in enumerate(zip(contours, angles, cX, cY)):\n",
    "        # draw contours\n",
    "        cv.drawContours(result, contours, -1, (0, 0, 255), 2)\n",
    "        # draw centroid\n",
    "        cv.circle(result, (x, y), 3, (0, 0, 0), -1)\n",
    "        # calculate orientation axes (use complex numbers functions to simplify)\n",
    "        hypotenuse = 100\n",
    "        x_axisX = int(x+hypotenuse*math.cos(math.radians(a)))\n",
    "        x_axisY = int(y-hypotenuse*math.sin(math.radians(a)))\n",
    "        y_axisX = int(x-hypotenuse*math.sin(math.radians(a)))\n",
    "        y_axisY = int(y-hypotenuse*math.cos(math.radians(a)))\n",
    "        # draw axes\n",
    "        cv.line(result, (x, y), (x_axisX, x_axisY), (127,255,0), 2)\n",
    "        cv.line(result, (x, y), (y_axisX, y_axisY), (255,255,224), 2)\n",
    "    cv.imshow('Output Image', result)\n",
    "    cv.waitKey(0)\n",
    "    cv.destroyAllWindows()"
   ]
  },
  {
   "cell_type": "markdown",
   "id": "ac49c93a",
   "metadata": {},
   "source": [
    "#### Miscallaneous Functions\n",
    "*Nothing function is a dummy function for creating trackbars/number sliders*  \n",
    "Trackbar code from: https://blog.electroica.com/trackbar-in-opencv-python/"
   ]
  },
  {
   "cell_type": "code",
   "execution_count": 7,
   "id": "023dacc8",
   "metadata": {},
   "outputs": [],
   "source": [
    "def nothing(x): #dummy function for trackbar\n",
    "    pass"
   ]
  },
  {
   "cell_type": "markdown",
   "id": "44c86ac0",
   "metadata": {},
   "source": [
    "## Section 3. Calibrate Camera"
   ]
  },
  {
   "cell_type": "code",
   "execution_count": null,
   "id": "2dd917fa",
   "metadata": {},
   "outputs": [],
   "source": [
    "# Defining the dimensions of checkerboard\n",
    "CHECKERBOARD = (6,9)\n",
    "criteria = (cv.TERM_CRITERIA_EPS + cv.TERM_CRITERIA_MAX_ITER, 30, 0.001)\n",
    "\n",
    "# Creating vector to store vectors of 3D points for each checkerboard image\n",
    "objpoints = []\n",
    "# Creating vector to store vectors of 2D points for each checkerboard image\n",
    "imgpoints = []\n",
    "\n",
    "# Defining the world coordinates for 3D points\n",
    "objp = np.zeros((1, CHECKERBOARD[0] * CHECKERBOARD[1], 3), np.float32)\n",
    "objp[0,:,:2] = np.mgrid[0:CHECKERBOARD[0], 0:CHECKERBOARD[1]].T.reshape(-1, 2)\n",
    "prev_img_shape = None\n",
    "\n",
    "# Extracting path of individual image stored in a given directory\n",
    "images = glob.glob('./cals/*.jpg')\n",
    "for fname in images:\n",
    "    img = cv.imread(fname)\n",
    "    gray = cv.cvtColor(img,cv.COLOR_BGR2GRAY)\n",
    "    # Find the chess board corners\n",
    "    # If desired number of corners are found in the image then ret = true\n",
    "    ret, corners = cv.findChessboardCorners(gray, CHECKERBOARD, cv.CALIB_CB_ADAPTIVE_THRESH + cv.CALIB_CB_FAST_CHECK + cv.CALIB_CB_NORMALIZE_IMAGE)\n",
    "    \n",
    "    \"\"\"\n",
    "    If desired number of corner are detected,\n",
    "    we refine the pixel coordinates and display \n",
    "    them on the images of checker board\n",
    "    \"\"\"\n",
    "    if ret == True:\n",
    "        objpoints.append(objp)\n",
    "        # refining pixel coordinates for given 2d points.\n",
    "        corners2 = cv.cornerSubPix(gray, corners, (11,11),(-1,-1), criteria)\n",
    "        \n",
    "        imgpoints.append(corners2)\n",
    "\n",
    "        # Draw and display the corners\n",
    "        img = cv.drawChessboardCorners(img, CHECKERBOARD, corners2, ret)\n",
    "    \n",
    "    cv.imshow('img',img)\n",
    "    cv.waitKey(0)\n",
    "\n",
    "cv.destroyAllWindows()\n",
    "\n",
    "h,w = img.shape[:2]\n",
    "\n",
    "\"\"\"\n",
    "Performing camera calibration by \n",
    "passing the value of known 3D points (objpoints)\n",
    "and corresponding pixel coordinates of the \n",
    "detected corners (imgpoints)\n",
    "\"\"\"\n",
    "ret, mtx, dist, rvecs, tvecs = cv.calibrateCamera(objpoints, imgpoints, gray.shape[::-1], None, None)\n",
    "\n",
    "print(\"Camera matrix : \\n\")\n",
    "print(mtx)\n",
    "print(\"dist : \\n\")\n",
    "print(dist)\n",
    "print(\"rvecs : \\n\")\n",
    "print(rvecs)\n",
    "print(\"tvecs : \\n\")\n",
    "print(tvecs)"
   ]
  },
  {
   "cell_type": "markdown",
   "id": "f7c471d1",
   "metadata": {},
   "source": [
    "## Section 4. Main  Function"
   ]
  },
  {
   "cell_type": "code",
   "execution_count": 17,
   "id": "40d10a14",
   "metadata": {},
   "outputs": [],
   "source": [
    "#img = cv.imread(\"input_img.jpg\")\n",
    "img = cv.imread(\"image2.png\")\n",
    "img = cv.resize(img, (int(img.shape[1]*0.6), int(img.shape[0]*0.6)), cv.INTER_AREA)\n",
    "cntrs_t, cntrs_e = find_contours_auto(img) # auto-generated contours values --> will be changed\n",
    "\n",
    "# create a seperate window named 'controls' for trackbar\n",
    "cv.namedWindow('controls', cv.WINDOW_NORMAL)\n",
    "# create trackbars in 'controls' window\n",
    "cv.createTrackbar('Min Thresh','controls',0,255,nothing)\n",
    "cv.createTrackbar('Max Thresh','controls',255,255,nothing)\n",
    "cv.createTrackbar('Min Area','controls',2000,10000,nothing)\n",
    "cv.createTrackbar('Max Area','controls',1000000,200000,nothing)\n",
    "\n",
    "while(1):\n",
    "    imgcopy = img.copy()\n",
    "    \n",
    "    min_thres = int(cv.getTrackbarPos('Min Thresh','controls'))\n",
    "    max_thres = int(cv.getTrackbarPos('Max Thresh','controls'))\n",
    "    area_min = int(cv.getTrackbarPos('Min Area','controls'))\n",
    "    area_max = int(cv.getTrackbarPos('Max Area','controls'))\n",
    "    \n",
    "    cntrs_t, cntrs_e = find_contours_man(img, min_thres, max_thres, area_min, area_max)\n",
    "    draw_contours(imgcopy, cntrs_t)\n",
    "\n",
    "    cv.imshow('Contoured Image', imgcopy)\n",
    "\n",
    "    # wait for the user to press escape and break the while loop \n",
    "    k = cv.waitKey(1) & 0xFF\n",
    "    if k == 27: \n",
    "        break\n",
    "\n",
    "# destroys all window\n",
    "cv.destroyAllWindows()\n",
    "\n",
    "x_coords, y_coords = find_centroids(cntrs_t)\n",
    "angs = calculate_orientation(cntrs_e)\n",
    "draw_features(img, cntrs_t, angs, x_coords, y_coords)"
   ]
  },
  {
   "cell_type": "code",
   "execution_count": null,
   "id": "77187ac0",
   "metadata": {},
   "outputs": [],
   "source": []
  }
 ],
 "metadata": {
  "kernelspec": {
   "display_name": "Python 3 (ipykernel)",
   "language": "python",
   "name": "python3"
  },
  "language_info": {
   "codemirror_mode": {
    "name": "ipython",
    "version": 3
   },
   "file_extension": ".py",
   "mimetype": "text/x-python",
   "name": "python",
   "nbconvert_exporter": "python",
   "pygments_lexer": "ipython3",
   "version": "3.8.12"
  }
 },
 "nbformat": 4,
 "nbformat_minor": 5
}
