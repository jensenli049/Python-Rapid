{
 "cells": [
  {
   "cell_type": "markdown",
   "id": "e95c9441",
   "metadata": {},
   "source": [
    "## 1. Install Dependencies"
   ]
  },
  {
   "cell_type": "code",
   "execution_count": null,
   "id": "f215e168",
   "metadata": {},
   "outputs": [],
   "source": [
    "pip install opencv-python numpy matplotlib"
   ]
  },
  {
   "cell_type": "code",
   "execution_count": 1,
   "id": "d31dd4ad",
   "metadata": {},
   "outputs": [],
   "source": [
    "# import opencv\n",
    "import cv2 as cv\n",
    "# import math functions\n",
    "import math\n",
    "import numpy as np"
   ]
  },
  {
   "cell_type": "markdown",
   "id": "6d18cb40",
   "metadata": {},
   "source": [
    "## 2. Define Functions"
   ]
  },
  {
   "cell_type": "markdown",
   "id": "cdbb28c5",
   "metadata": {},
   "source": [
    "#### Function to find contours of an image:\n",
    "*Takes a file path as input and returns contours*  \n",
    "\n",
    "Contour resource: https://docs.opencv.org/3.4/d4/d73/tutorial_py_contours_begin.html  \n",
    "Otsu Thresholding: https://docs.opencv.org/4.x/d7/d4d/tutorial_py_thresholding.html"
   ]
  },
  {
   "cell_type": "code",
   "execution_count": 2,
   "id": "0432d846",
   "metadata": {},
   "outputs": [],
   "source": [
    "def find_contours_auto(image):\n",
    "    # convert image to grayscale\n",
    "    imgray = cv.cvtColor(image, cv.COLOR_BGR2GRAY)\n",
    "    # threshold image with otsu thresholding\n",
    "    blur = cv.GaussianBlur(imgray,(5,5),0)\n",
    "    ret,thr = cv.threshold(blur, 120, 255, cv.THRESH_BINARY + cv.THRESH_OTSU)\n",
    "    # find contours\n",
    "    # tree = all contours\n",
    "    contours_tree, hierarchy = cv.findContours(thr, cv.RETR_TREE, cv.CHAIN_APPROX_SIMPLE)\n",
    "    # external = only extreme outer contours (used for orientation)\n",
    "    contours_ext, hierarchy = cv.findContours(thr, cv.RETR_EXTERNAL, cv.CHAIN_APPROX_SIMPLE)\n",
    "    \n",
    "    contours_main = []\n",
    "    for c in contours_tree:\n",
    "        # Calculate the area of each contour\n",
    "        area = cv.contourArea(c)\n",
    "\n",
    "        # Ignore contours that are too small or too large\n",
    "        if area > 2000 and 100000 > area:\n",
    "            contours_main.append(c)\n",
    "    \"\"\"      \n",
    "    result = image.copy()\n",
    "    cv.drawContours(result, contours_main, -1, (0, 0, 255), 2)\n",
    "    cv.imshow('Output Image', result)\n",
    "    cv.waitKey(0)\n",
    "    cv.destroyAllWindows()\n",
    "    \"\"\"\n",
    "    return contours_main, contours_ext"
   ]
  },
  {
   "cell_type": "code",
   "execution_count": 3,
   "id": "fc130ed5",
   "metadata": {},
   "outputs": [],
   "source": [
    "def find_contours_man(image, min_t, max_t, min_a, max_a):\n",
    "    # convert image to grayscale\n",
    "    imgray = cv.cvtColor(image, cv.COLOR_BGR2GRAY)\n",
    "    # manual threshold\n",
    "    blur = cv.GaussianBlur(imgray,(5,5),0)\n",
    "    ret,thr = cv.threshold(blur, min_t, max_t, cv.THRESH_BINARY)\n",
    "    # find contours\n",
    "    # tree = all contours\n",
    "    contours_tree, hierarchy = cv.findContours(thr, cv.RETR_TREE, cv.CHAIN_APPROX_SIMPLE)\n",
    "    # external = only extreme outer contours (used for orientation)\n",
    "    contours_ext, hierarchy = cv.findContours(thr, cv.RETR_EXTERNAL, cv.CHAIN_APPROX_SIMPLE)\n",
    "    \n",
    "    contours_main  = []\n",
    "    for c in contours_tree:\n",
    "        # Calculate the area of each contour\n",
    "        area = cv.contourArea(c)\n",
    "\n",
    "        # Ignore contours that are too small or too large\n",
    "        if area > min_a and max_a > area:\n",
    "            contours_main.append(c)\n",
    "\n",
    "    return contours_main, contours_ext"
   ]
  },
  {
   "cell_type": "markdown",
   "id": "fc4b3c73",
   "metadata": {},
   "source": [
    "#### Finding centroid of object:\n",
    "*Takes a list of contours and returns the centroid for each through moments*  \n",
    "\n",
    "Code base from https://docs.opencv.org/4.x/dd/d49/tutorial_py_contour_features.html"
   ]
  },
  {
   "cell_type": "code",
   "execution_count": 4,
   "id": "c0314b53",
   "metadata": {},
   "outputs": [],
   "source": [
    "def find_centroids(contours):\n",
    "    # instantiate two empty lists\n",
    "    cX, cY = [], []\n",
    "    for c in contours:\n",
    "        # calculate moments for each contour\n",
    "        M = cv.moments(c)\n",
    "\n",
    "        # calculate x,y coordinate of center\n",
    "        cX.append(int(M[\"m10\"] / M[\"m00\"]))\n",
    "        cY.append(int(M[\"m01\"] / M[\"m00\"]))\n",
    "        \"\"\"\n",
    "        result = img.copy()\n",
    "        cv.drawContours(result, contours, -1, (0, 0, 255), 2)\n",
    "        cv.circle(img, (int(M[\"m10\"] / M[\"m00\"]), int(M[\"m01\"] / M[\"m00\"])), 5, (0, 0, 0), -1)\n",
    "        cv.imshow('Output Image', result)\n",
    "        cv.waitKey(0)\n",
    "        cv.destroyAllWindows()\n",
    "        \"\"\"\n",
    "        \n",
    "    return cX, cY"
   ]
  },
  {
   "cell_type": "markdown",
   "id": "37ed2af4",
   "metadata": {},
   "source": [
    "#### Calculate the orientation of an image through a rotated box:\n",
    "\n",
    "\n",
    "Code based from: https://stackoverflow.com/questions/58632469/how-to-find-the-orientation-of-an-object-shape-python-opencv"
   ]
  },
  {
   "cell_type": "code",
   "execution_count": 25,
   "id": "ba0fedfc",
   "metadata": {},
   "outputs": [],
   "source": [
    "def calculate_orientation(contours):\n",
    "    # instantiate an empty list\n",
    "    angles = []\n",
    "    for c in contours:\n",
    "        # calculate bounding box with minimum area, considers rotation\n",
    "        rect = cv.minAreaRect(c)\n",
    "        box = cv.boxPoints(rect)\n",
    "        box = np.int0(box)\n",
    "        \n",
    "        # calculate rotation angle\n",
    "        angle = rect[-1]\n",
    "        if angle > 45:\n",
    "            angle = 90 - angle\n",
    "        else:\n",
    "            angle = -angle\n",
    "        angles.append(int(angle))\n",
    "        \"\"\"\n",
    "        result = img.copy()\n",
    "        cv.drawContours(result,[box],0,(0,0,255),2)\n",
    "        cv.imshow(\"RESULT\", result)\n",
    "        cv.waitKey(0)\n",
    "        cv.destroyAllWindows()\n",
    "        \"\"\"\n",
    "    return angles"
   ]
  },
  {
   "cell_type": "markdown",
   "id": "3f6c4d83",
   "metadata": {},
   "source": [
    "#### Functions to draw contours, centroids, and orientation axes on an image:\n",
    "*Takes an image, a contours list, orientation, and centroid coordinates and returns an image with the added features*  "
   ]
  },
  {
   "cell_type": "code",
   "execution_count": 26,
   "id": "cee0d8f3",
   "metadata": {},
   "outputs": [],
   "source": [
    "def draw_contours(image, contours):\n",
    "    # draw contours\n",
    "    for c in contours:\n",
    "        cv.drawContours(image, contours, -1, (0, 0, 255), 2)\n",
    "        \n",
    "def draw_orientation(image, angles, cX, cY):\n",
    "    for i, (a, x, y) in enumerate(zip(angles, cX, cY)):\n",
    "        # draw centroid\n",
    "        cv.circle(image, (x, y), 3, (0, 0, 0), -1)\n",
    "        # calculate orientation axes\n",
    "        hypotenuse = 100\n",
    "        x_axisX = int(x+hypotenuse*math.cos(math.radians(a)))\n",
    "        x_axisY = int(y-hypotenuse*math.sin(math.radians(a)))\n",
    "        y_axisX = int(x-hypotenuse*math.sin(math.radians(a)))\n",
    "        y_axisY = int(y-hypotenuse*math.cos(math.radians(a)))\n",
    "        # draw axes\n",
    "        cv.line(image, (x, y), (x_axisX, x_axisY), (127,255,0), 2)\n",
    "        cv.line(image, (x, y), (y_axisX, y_axisY), (255,255,224), 2)\n",
    "\n",
    "def draw_all(image, contours, angles, cX, cY):\n",
    "    result =  image.copy()\n",
    "    draw_contours(result, contours)\n",
    "    draw_orientation(result, angles, cX, cY)\n",
    "    cv.imshow('Output Image', result)\n",
    "    cv.waitKey(0)\n",
    "    cv.destroyAllWindows()\n",
    "\n",
    "def draw_features(image, contours, angles, cX, cY):\n",
    "    # Make a copy of the image to draw on\n",
    "    result =  image.copy()\n",
    "    for i, (c, a, x, y) in enumerate(zip(contours, angles, cX, cY)):\n",
    "        # draw contours\n",
    "        cv.drawContours(result, contours, -1, (0, 0, 255), 2)\n",
    "        # draw centroid\n",
    "        cv.circle(result, (x, y), 3, (0, 0, 0), -1)\n",
    "        # calculate orientation axes (use complex numbers functions to simplify)\n",
    "        hypotenuse = 100\n",
    "        x_axisX = int(x+hypotenuse*math.cos(math.radians(a)))\n",
    "        x_axisY = int(y-hypotenuse*math.sin(math.radians(a)))\n",
    "        y_axisX = int(x-hypotenuse*math.sin(math.radians(a)))\n",
    "        y_axisY = int(y-hypotenuse*math.cos(math.radians(a)))\n",
    "        # draw axes\n",
    "        cv.line(result, (x, y), (x_axisX, x_axisY), (127,255,0), 2)\n",
    "        cv.line(result, (x, y), (y_axisX, y_axisY), (255,255,224), 2)\n",
    "    cv.imshow('Output Image', result)\n",
    "    cv.waitKey(0)\n",
    "    cv.destroyAllWindows()"
   ]
  },
  {
   "cell_type": "code",
   "execution_count": 27,
   "id": "023dacc8",
   "metadata": {},
   "outputs": [],
   "source": [
    "def nothing(x): #dummy function for trackbar\n",
    "    pass"
   ]
  },
  {
   "cell_type": "code",
   "execution_count": 28,
   "id": "c4f2c461",
   "metadata": {
    "scrolled": true
   },
   "outputs": [],
   "source": [
    "#-------------Main Function-------------\n",
    "# Load the image\n",
    "#img = cv.imread(\"image2.png\")\n",
    "#img = cv.imread(\"input_img.jpg\")\n",
    " \n",
    "# Was the image there?\n",
    "#if img is None:\n",
    "#  print(\"Error: File not found\")\n",
    "#  exit(0)\n",
    " \n",
    "#cv.imshow('Input Image', img)\n",
    "#cv.waitKey(0)\n",
    "\n",
    "#cntrs_t, cntrs_e = find_contours_auto(img)\n",
    "#x_coords, y_coords = find_centroids(cntrs_t)\n",
    "#angs = calculate_orientation(cntrs_e)\n",
    "#draw_features(img, cntrs_t, angs, x_coords, y_coords)"
   ]
  },
  {
   "cell_type": "code",
   "execution_count": 29,
   "id": "40d10a14",
   "metadata": {},
   "outputs": [],
   "source": [
    "#img = cv.imread(\"input_img.jpg\")\n",
    "img = cv.imread(\"image2.png\")\n",
    "img = cv.resize(img, (int(img.shape[1]*0.6), int(img.shape[0]*0.6)), cv.INTER_AREA)\n",
    "cntrs_t, cntrs_e = find_contours_auto(img) # auto-generated contours values --> will be changed\n",
    "\n",
    "#create a seperate window named 'controls' for trackbar\n",
    "cv.namedWindow('controls', cv.WINDOW_NORMAL)\n",
    "#create trackbar in 'controls' window with name 'r''\n",
    "cv.createTrackbar('Min Thresh','controls',0,255,nothing)\n",
    "cv.createTrackbar('Max Thresh','controls',255,255,nothing)\n",
    "cv.createTrackbar('Min Area','controls',2000,10000,nothing)\n",
    "cv.createTrackbar('Max Area','controls',1000000,200000,nothing)\n",
    "\n",
    "while(1):\n",
    "    imgcopy = img.copy()\n",
    "    \n",
    "    min_thres = int(cv.getTrackbarPos('Min Thresh','controls'))\n",
    "    max_thres = int(cv.getTrackbarPos('Max Thresh','controls'))\n",
    "    area_min = int(cv.getTrackbarPos('Min Area','controls'))\n",
    "    area_max = int(cv.getTrackbarPos('Max Area','controls'))\n",
    "    \n",
    "    cntrs_t, cntrs_e = find_contours_man(img, min_thres, max_thres, area_min, area_max)\n",
    "    draw_contours(imgcopy, cntrs_t)\n",
    "\n",
    "    cv.imshow('Contoured Image', imgcopy)\n",
    "\n",
    "    #waitfor the user to press escape and break the while loop \n",
    "    k = cv.waitKey(1) & 0xFF\n",
    "    if k == 27:\n",
    "        break\n",
    "\n",
    "#destroys all window\n",
    "cv.destroyAllWindows()\n",
    "\n",
    "x_coords, y_coords = find_centroids(cntrs_t)\n",
    "angs = calculate_orientation(cntrs_e)\n",
    "draw_features(img, cntrs_t, angs, x_coords, y_coords)"
   ]
  },
  {
   "cell_type": "code",
   "execution_count": null,
   "id": "4bee4723",
   "metadata": {},
   "outputs": [],
   "source": []
  }
 ],
 "metadata": {
  "kernelspec": {
   "display_name": "Python 3 (ipykernel)",
   "language": "python",
   "name": "python3"
  },
  "language_info": {
   "codemirror_mode": {
    "name": "ipython",
    "version": 3
   },
   "file_extension": ".py",
   "mimetype": "text/x-python",
   "name": "python",
   "nbconvert_exporter": "python",
   "pygments_lexer": "ipython3",
   "version": "3.8.12"
  }
 },
 "nbformat": 4,
 "nbformat_minor": 5
}
